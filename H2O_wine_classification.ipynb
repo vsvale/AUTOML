{
  "nbformat": 4,
  "nbformat_minor": 0,
  "metadata": {
    "colab": {
      "name": "H2O_wine_classification.ipynb",
      "provenance": [],
      "authorship_tag": "ABX9TyMWtWwo2MGVX4+6EqDUIy5t",
      "include_colab_link": true
    },
    "kernelspec": {
      "name": "python3",
      "display_name": "Python 3"
    },
    "language_info": {
      "name": "python"
    }
  },
  "cells": [
    {
      "cell_type": "markdown",
      "metadata": {
        "id": "view-in-github",
        "colab_type": "text"
      },
      "source": [
        "<a href=\"https://colab.research.google.com/github/vsvale/AUTOML/blob/main/H2O_wine_classification.ipynb\" target=\"_parent\"><img src=\"https://colab.research.google.com/assets/colab-badge.svg\" alt=\"Open In Colab\"/></a>"
      ]
    },
    {
      "cell_type": "code",
      "metadata": {
        "colab": {
          "base_uri": "https://localhost:8080/"
        },
        "id": "EM8-Ce60FlwG",
        "outputId": "7e551c2c-29c0-43b3-84d1-34f290acc9b1"
      },
      "source": [
        "! apt-get install default-jre"
      ],
      "execution_count": 1,
      "outputs": [
        {
          "output_type": "stream",
          "text": [
            "Reading package lists... Done\n",
            "Building dependency tree       \n",
            "Reading state information... Done\n",
            "default-jre is already the newest version (2:1.11-68ubuntu1~18.04.1).\n",
            "default-jre set to manually installed.\n",
            "The following package was automatically installed and is no longer required:\n",
            "  libnvidia-common-460\n",
            "Use 'apt autoremove' to remove it.\n",
            "0 upgraded, 0 newly installed, 0 to remove and 34 not upgraded.\n"
          ],
          "name": "stdout"
        }
      ]
    },
    {
      "cell_type": "code",
      "metadata": {
        "colab": {
          "base_uri": "https://localhost:8080/"
        },
        "id": "GoZpEYN3FqIO",
        "outputId": "e440ed67-a51e-41d2-8804-603412440d67"
      },
      "source": [
        "! pip install h2o"
      ],
      "execution_count": 2,
      "outputs": [
        {
          "output_type": "stream",
          "text": [
            "Collecting h2o\n",
            "\u001b[?25l  Downloading https://files.pythonhosted.org/packages/56/ee/9a2c124bedad710b5e721641391b6a76783899e276dbee4ad2f2a7f71325/h2o-3.32.1.1.tar.gz (164.8MB)\n",
            "\u001b[K     |████████████████████████████████| 164.8MB 84kB/s \n",
            "\u001b[?25hRequirement already satisfied: requests in /usr/local/lib/python3.7/dist-packages (from h2o) (2.23.0)\n",
            "Requirement already satisfied: tabulate in /usr/local/lib/python3.7/dist-packages (from h2o) (0.8.9)\n",
            "Requirement already satisfied: future in /usr/local/lib/python3.7/dist-packages (from h2o) (0.16.0)\n",
            "Collecting colorama>=0.3.8\n",
            "  Downloading https://files.pythonhosted.org/packages/44/98/5b86278fbbf250d239ae0ecb724f8572af1c91f4a11edf4d36a206189440/colorama-0.4.4-py2.py3-none-any.whl\n",
            "Requirement already satisfied: certifi>=2017.4.17 in /usr/local/lib/python3.7/dist-packages (from requests->h2o) (2020.12.5)\n",
            "Requirement already satisfied: chardet<4,>=3.0.2 in /usr/local/lib/python3.7/dist-packages (from requests->h2o) (3.0.4)\n",
            "Requirement already satisfied: idna<3,>=2.5 in /usr/local/lib/python3.7/dist-packages (from requests->h2o) (2.10)\n",
            "Requirement already satisfied: urllib3!=1.25.0,!=1.25.1,<1.26,>=1.21.1 in /usr/local/lib/python3.7/dist-packages (from requests->h2o) (1.24.3)\n",
            "Building wheels for collected packages: h2o\n",
            "  Building wheel for h2o (setup.py) ... \u001b[?25l\u001b[?25hdone\n",
            "  Created wheel for h2o: filename=h2o-3.32.1.1-py2.py3-none-any.whl size=164840229 sha256=16d2159e611510985d4c148ddde1c1ade23de3769d28e237a56a1d4839db5c5e\n",
            "  Stored in directory: /root/.cache/pip/wheels/4d/94/84/02ea21db1eebcef2da872861ce0db478788e27d24bcd5394fb\n",
            "Successfully built h2o\n",
            "Installing collected packages: colorama, h2o\n",
            "Successfully installed colorama-0.4.4 h2o-3.32.1.1\n"
          ],
          "name": "stdout"
        }
      ]
    },
    {
      "cell_type": "code",
      "metadata": {
        "id": "R8qtix_qFs2B"
      },
      "source": [
        "import h2o\n",
        "from h2o.automl import H2OAutoML"
      ],
      "execution_count": 3,
      "outputs": []
    },
    {
      "cell_type": "code",
      "metadata": {
        "colab": {
          "base_uri": "https://localhost:8080/",
          "height": 508
        },
        "id": "XKg6m0_WF1Et",
        "outputId": "1ee957fd-d4a1-4757-d25a-4a5bbdad5a24"
      },
      "source": [
        "h2o.init(nthreads = -1, max_mem_size = 16)"
      ],
      "execution_count": 4,
      "outputs": [
        {
          "output_type": "stream",
          "text": [
            "Checking whether there is an H2O instance running at http://localhost:54321 ..... not found.\n",
            "Attempting to start a local H2O server...\n",
            "  Java Version: openjdk version \"11.0.10\" 2021-01-19; OpenJDK Runtime Environment (build 11.0.10+9-Ubuntu-0ubuntu1.18.04); OpenJDK 64-Bit Server VM (build 11.0.10+9-Ubuntu-0ubuntu1.18.04, mixed mode, sharing)\n",
            "  Starting server from /usr/local/lib/python3.7/dist-packages/h2o/backend/bin/h2o.jar\n",
            "  Ice root: /tmp/tmpr3mytc8y\n",
            "  JVM stdout: /tmp/tmpr3mytc8y/h2o_unknownUser_started_from_python.out\n",
            "  JVM stderr: /tmp/tmpr3mytc8y/h2o_unknownUser_started_from_python.err\n",
            "  Server is running at http://127.0.0.1:54321\n",
            "Connecting to H2O server at http://127.0.0.1:54321 ... successful.\n"
          ],
          "name": "stdout"
        },
        {
          "output_type": "display_data",
          "data": {
            "text/html": [
              "<div style=\"overflow:auto\"><table style=\"width:50%\"><tr><td>H2O_cluster_uptime:</td>\n",
              "<td>03 secs</td></tr>\n",
              "<tr><td>H2O_cluster_timezone:</td>\n",
              "<td>Etc/UTC</td></tr>\n",
              "<tr><td>H2O_data_parsing_timezone:</td>\n",
              "<td>UTC</td></tr>\n",
              "<tr><td>H2O_cluster_version:</td>\n",
              "<td>3.32.1.1</td></tr>\n",
              "<tr><td>H2O_cluster_version_age:</td>\n",
              "<td>1 month and 3 days </td></tr>\n",
              "<tr><td>H2O_cluster_name:</td>\n",
              "<td>H2O_from_python_unknownUser_qrwg0q</td></tr>\n",
              "<tr><td>H2O_cluster_total_nodes:</td>\n",
              "<td>1</td></tr>\n",
              "<tr><td>H2O_cluster_free_memory:</td>\n",
              "<td>16 Gb</td></tr>\n",
              "<tr><td>H2O_cluster_total_cores:</td>\n",
              "<td>2</td></tr>\n",
              "<tr><td>H2O_cluster_allowed_cores:</td>\n",
              "<td>2</td></tr>\n",
              "<tr><td>H2O_cluster_status:</td>\n",
              "<td>accepting new members, healthy</td></tr>\n",
              "<tr><td>H2O_connection_url:</td>\n",
              "<td>http://127.0.0.1:54321</td></tr>\n",
              "<tr><td>H2O_connection_proxy:</td>\n",
              "<td>{\"http\": null, \"https\": null}</td></tr>\n",
              "<tr><td>H2O_internal_security:</td>\n",
              "<td>False</td></tr>\n",
              "<tr><td>H2O_API_Extensions:</td>\n",
              "<td>Amazon S3, XGBoost, Algos, AutoML, Core V3, TargetEncoder, Core V4</td></tr>\n",
              "<tr><td>Python_version:</td>\n",
              "<td>3.7.10 final</td></tr></table></div>"
            ],
            "text/plain": [
              "--------------------------  ------------------------------------------------------------------\n",
              "H2O_cluster_uptime:         03 secs\n",
              "H2O_cluster_timezone:       Etc/UTC\n",
              "H2O_data_parsing_timezone:  UTC\n",
              "H2O_cluster_version:        3.32.1.1\n",
              "H2O_cluster_version_age:    1 month and 3 days\n",
              "H2O_cluster_name:           H2O_from_python_unknownUser_qrwg0q\n",
              "H2O_cluster_total_nodes:    1\n",
              "H2O_cluster_free_memory:    16 Gb\n",
              "H2O_cluster_total_cores:    2\n",
              "H2O_cluster_allowed_cores:  2\n",
              "H2O_cluster_status:         accepting new members, healthy\n",
              "H2O_connection_url:         http://127.0.0.1:54321\n",
              "H2O_connection_proxy:       {\"http\": null, \"https\": null}\n",
              "H2O_internal_security:      False\n",
              "H2O_API_Extensions:         Amazon S3, XGBoost, Algos, AutoML, Core V3, TargetEncoder, Core V4\n",
              "Python_version:             3.7.10 final\n",
              "--------------------------  ------------------------------------------------------------------"
            ]
          },
          "metadata": {
            "tags": []
          }
        }
      ]
    },
    {
      "cell_type": "code",
      "metadata": {
        "colab": {
          "base_uri": "https://localhost:8080/"
        },
        "id": "u45fmGSJHS68",
        "outputId": "643395c1-dd5a-4eb5-e5fd-f97b7337b55e"
      },
      "source": [
        "!git clone https://github.com/vsvale/Building-Machine-Learning-Models-in-Spark-2.git"
      ],
      "execution_count": 5,
      "outputs": [
        {
          "output_type": "stream",
          "text": [
            "Cloning into 'Building-Machine-Learning-Models-in-Spark-2'...\n",
            "remote: Enumerating objects: 27, done.\n",
            "remote: Counting objects: 100% (27/27), done.\n",
            "remote: Compressing objects: 100% (25/25), done.\n",
            "remote: Total 27 (delta 0), reused 0 (delta 0), pack-reused 0\n",
            "Unpacking objects: 100% (27/27), done.\n"
          ],
          "name": "stdout"
        }
      ]
    },
    {
      "cell_type": "code",
      "metadata": {
        "colab": {
          "base_uri": "https://localhost:8080/"
        },
        "id": "SXvKoSK-HaBS",
        "outputId": "d783053a-bdf9-4473-b9fc-047915fe4288"
      },
      "source": [
        "%cd Building-Machine-Learning-Models-in-Spark-2\n",
        "%cd datasets"
      ],
      "execution_count": 6,
      "outputs": [
        {
          "output_type": "stream",
          "text": [
            "/content/Building-Machine-Learning-Models-in-Spark-2\n",
            "/content/Building-Machine-Learning-Models-in-Spark-2/datasets\n"
          ],
          "name": "stdout"
        }
      ]
    },
    {
      "cell_type": "code",
      "metadata": {
        "colab": {
          "base_uri": "https://localhost:8080/"
        },
        "id": "Jox-DcYPItOa",
        "outputId": "77f6e072-2cc1-45e0-ac2b-6cc78e0ab355"
      },
      "source": [
        "df = h2o.import_file('wine.data')"
      ],
      "execution_count": 7,
      "outputs": [
        {
          "output_type": "stream",
          "text": [
            "Parse progress: |█████████████████████████████████████████████████████████| 100%\n"
          ],
          "name": "stdout"
        }
      ]
    },
    {
      "cell_type": "code",
      "metadata": {
        "colab": {
          "base_uri": "https://localhost:8080/",
          "height": 250
        },
        "id": "O9CojQh7I3n_",
        "outputId": "46fdeea7-b2f9-48dd-d7e2-80eb7aa6408d"
      },
      "source": [
        "df"
      ],
      "execution_count": 8,
      "outputs": [
        {
          "output_type": "display_data",
          "data": {
            "text/html": [
              "<table>\n",
              "<thead>\n",
              "<tr><th style=\"text-align: right;\">  C1</th><th style=\"text-align: right;\">   C2</th><th style=\"text-align: right;\">  C3</th><th style=\"text-align: right;\">  C4</th><th style=\"text-align: right;\">  C5</th><th style=\"text-align: right;\">  C6</th><th style=\"text-align: right;\">  C7</th><th style=\"text-align: right;\">  C8</th><th style=\"text-align: right;\">  C9</th><th style=\"text-align: right;\">  C10</th><th style=\"text-align: right;\">  C11</th><th style=\"text-align: right;\">  C12</th><th style=\"text-align: right;\">  C13</th><th style=\"text-align: right;\">  C14</th></tr>\n",
              "</thead>\n",
              "<tbody>\n",
              "<tr><td style=\"text-align: right;\">   1</td><td style=\"text-align: right;\">14.23</td><td style=\"text-align: right;\">1.71</td><td style=\"text-align: right;\">2.43</td><td style=\"text-align: right;\">15.6</td><td style=\"text-align: right;\"> 127</td><td style=\"text-align: right;\">2.8 </td><td style=\"text-align: right;\">3.06</td><td style=\"text-align: right;\">0.28</td><td style=\"text-align: right;\"> 2.29</td><td style=\"text-align: right;\"> 5.64</td><td style=\"text-align: right;\"> 1.04</td><td style=\"text-align: right;\"> 3.92</td><td style=\"text-align: right;\"> 1065</td></tr>\n",
              "<tr><td style=\"text-align: right;\">   1</td><td style=\"text-align: right;\">13.2 </td><td style=\"text-align: right;\">1.78</td><td style=\"text-align: right;\">2.14</td><td style=\"text-align: right;\">11.2</td><td style=\"text-align: right;\"> 100</td><td style=\"text-align: right;\">2.65</td><td style=\"text-align: right;\">2.76</td><td style=\"text-align: right;\">0.26</td><td style=\"text-align: right;\"> 1.28</td><td style=\"text-align: right;\"> 4.38</td><td style=\"text-align: right;\"> 1.05</td><td style=\"text-align: right;\"> 3.4 </td><td style=\"text-align: right;\"> 1050</td></tr>\n",
              "<tr><td style=\"text-align: right;\">   1</td><td style=\"text-align: right;\">13.16</td><td style=\"text-align: right;\">2.36</td><td style=\"text-align: right;\">2.67</td><td style=\"text-align: right;\">18.6</td><td style=\"text-align: right;\"> 101</td><td style=\"text-align: right;\">2.8 </td><td style=\"text-align: right;\">3.24</td><td style=\"text-align: right;\">0.3 </td><td style=\"text-align: right;\"> 2.81</td><td style=\"text-align: right;\"> 5.68</td><td style=\"text-align: right;\"> 1.03</td><td style=\"text-align: right;\"> 3.17</td><td style=\"text-align: right;\"> 1185</td></tr>\n",
              "<tr><td style=\"text-align: right;\">   1</td><td style=\"text-align: right;\">14.37</td><td style=\"text-align: right;\">1.95</td><td style=\"text-align: right;\">2.5 </td><td style=\"text-align: right;\">16.8</td><td style=\"text-align: right;\"> 113</td><td style=\"text-align: right;\">3.85</td><td style=\"text-align: right;\">3.49</td><td style=\"text-align: right;\">0.24</td><td style=\"text-align: right;\"> 2.18</td><td style=\"text-align: right;\"> 7.8 </td><td style=\"text-align: right;\"> 0.86</td><td style=\"text-align: right;\"> 3.45</td><td style=\"text-align: right;\"> 1480</td></tr>\n",
              "<tr><td style=\"text-align: right;\">   1</td><td style=\"text-align: right;\">13.24</td><td style=\"text-align: right;\">2.59</td><td style=\"text-align: right;\">2.87</td><td style=\"text-align: right;\">21  </td><td style=\"text-align: right;\"> 118</td><td style=\"text-align: right;\">2.8 </td><td style=\"text-align: right;\">2.69</td><td style=\"text-align: right;\">0.39</td><td style=\"text-align: right;\"> 1.82</td><td style=\"text-align: right;\"> 4.32</td><td style=\"text-align: right;\"> 1.04</td><td style=\"text-align: right;\"> 2.93</td><td style=\"text-align: right;\">  735</td></tr>\n",
              "<tr><td style=\"text-align: right;\">   1</td><td style=\"text-align: right;\">14.2 </td><td style=\"text-align: right;\">1.76</td><td style=\"text-align: right;\">2.45</td><td style=\"text-align: right;\">15.2</td><td style=\"text-align: right;\"> 112</td><td style=\"text-align: right;\">3.27</td><td style=\"text-align: right;\">3.39</td><td style=\"text-align: right;\">0.34</td><td style=\"text-align: right;\"> 1.97</td><td style=\"text-align: right;\"> 6.75</td><td style=\"text-align: right;\"> 1.05</td><td style=\"text-align: right;\"> 2.85</td><td style=\"text-align: right;\"> 1450</td></tr>\n",
              "<tr><td style=\"text-align: right;\">   1</td><td style=\"text-align: right;\">14.39</td><td style=\"text-align: right;\">1.87</td><td style=\"text-align: right;\">2.45</td><td style=\"text-align: right;\">14.6</td><td style=\"text-align: right;\">  96</td><td style=\"text-align: right;\">2.5 </td><td style=\"text-align: right;\">2.52</td><td style=\"text-align: right;\">0.3 </td><td style=\"text-align: right;\"> 1.98</td><td style=\"text-align: right;\"> 5.25</td><td style=\"text-align: right;\"> 1.02</td><td style=\"text-align: right;\"> 3.58</td><td style=\"text-align: right;\"> 1290</td></tr>\n",
              "<tr><td style=\"text-align: right;\">   1</td><td style=\"text-align: right;\">14.06</td><td style=\"text-align: right;\">2.15</td><td style=\"text-align: right;\">2.61</td><td style=\"text-align: right;\">17.6</td><td style=\"text-align: right;\"> 121</td><td style=\"text-align: right;\">2.6 </td><td style=\"text-align: right;\">2.51</td><td style=\"text-align: right;\">0.31</td><td style=\"text-align: right;\"> 1.25</td><td style=\"text-align: right;\"> 5.05</td><td style=\"text-align: right;\"> 1.06</td><td style=\"text-align: right;\"> 3.58</td><td style=\"text-align: right;\"> 1295</td></tr>\n",
              "<tr><td style=\"text-align: right;\">   1</td><td style=\"text-align: right;\">14.83</td><td style=\"text-align: right;\">1.64</td><td style=\"text-align: right;\">2.17</td><td style=\"text-align: right;\">14  </td><td style=\"text-align: right;\">  97</td><td style=\"text-align: right;\">2.8 </td><td style=\"text-align: right;\">2.98</td><td style=\"text-align: right;\">0.29</td><td style=\"text-align: right;\"> 1.98</td><td style=\"text-align: right;\"> 5.2 </td><td style=\"text-align: right;\"> 1.08</td><td style=\"text-align: right;\"> 2.85</td><td style=\"text-align: right;\"> 1045</td></tr>\n",
              "<tr><td style=\"text-align: right;\">   1</td><td style=\"text-align: right;\">13.86</td><td style=\"text-align: right;\">1.35</td><td style=\"text-align: right;\">2.27</td><td style=\"text-align: right;\">16  </td><td style=\"text-align: right;\">  98</td><td style=\"text-align: right;\">2.98</td><td style=\"text-align: right;\">3.15</td><td style=\"text-align: right;\">0.22</td><td style=\"text-align: right;\"> 1.85</td><td style=\"text-align: right;\"> 7.22</td><td style=\"text-align: right;\"> 1.01</td><td style=\"text-align: right;\"> 3.55</td><td style=\"text-align: right;\"> 1045</td></tr>\n",
              "</tbody>\n",
              "</table>"
            ]
          },
          "metadata": {
            "tags": []
          }
        },
        {
          "output_type": "execute_result",
          "data": {
            "text/plain": [
              ""
            ]
          },
          "metadata": {
            "tags": []
          },
          "execution_count": 8
        }
      ]
    },
    {
      "cell_type": "code",
      "metadata": {
        "id": "AVbK5WJRJAHE"
      },
      "source": [
        "y = 'C1'\n",
        "x = list(df.columns).remove(y)"
      ],
      "execution_count": 9,
      "outputs": []
    },
    {
      "cell_type": "code",
      "metadata": {
        "id": "vq-Sl39WKN6_"
      },
      "source": [
        "df[y] = df[y].asfactor()"
      ],
      "execution_count": 15,
      "outputs": []
    },
    {
      "cell_type": "code",
      "metadata": {
        "id": "9oTNteh7KskX"
      },
      "source": [
        "splits = df.split_frame(ratios=[0.7, 0.15], seed=1)"
      ],
      "execution_count": 16,
      "outputs": []
    },
    {
      "cell_type": "code",
      "metadata": {
        "id": "LlmO6pnpKvyp"
      },
      "source": [
        "train = splits[0]\n",
        "valid = splits[1]\n",
        "test = splits[2]"
      ],
      "execution_count": 17,
      "outputs": []
    },
    {
      "cell_type": "code",
      "metadata": {
        "colab": {
          "base_uri": "https://localhost:8080/"
        },
        "id": "hyqMqwwMKzBv",
        "outputId": "b603bcc3-5db4-4d64-e4dd-9f0ce8a9628a"
      },
      "source": [
        "print(train.nrow)\n",
        "print(valid.nrow)\n",
        "print(test.nrow)"
      ],
      "execution_count": 18,
      "outputs": [
        {
          "output_type": "stream",
          "text": [
            "132\n",
            "23\n",
            "23\n"
          ],
          "name": "stdout"
        }
      ]
    },
    {
      "cell_type": "code",
      "metadata": {
        "id": "nRmXuuBNLBQL"
      },
      "source": [
        "aml = H2OAutoML()"
      ],
      "execution_count": 20,
      "outputs": []
    },
    {
      "cell_type": "code",
      "metadata": {
        "colab": {
          "base_uri": "https://localhost:8080/"
        },
        "id": "inAFw15TLGl1",
        "outputId": "09c87d5b-2965-4e11-b7f7-2789ef7b2c43"
      },
      "source": [
        "aml.train(x = x, y = y, training_frame = train)"
      ],
      "execution_count": 21,
      "outputs": [
        {
          "output_type": "stream",
          "text": [
            "AutoML progress: |█████████████\n",
            "01:11:14.627: Skipping training of model GBM_5_AutoML_20210429_011045 due to exception: water.exceptions.H2OModelBuilderIllegalArgumentException: Illegal argument(s) for GBM model: GBM_5_AutoML_20210429_011045.  Details: ERRR on field: _min_rows: The dataset size is too small to split for min_rows=100.0: must have at least 200.0 (weighted) rows, but have only 132.0.\n",
            "\n",
            "\n",
            "███████████████████████████████████████████| 100%\n"
          ],
          "name": "stdout"
        }
      ]
    },
    {
      "cell_type": "code",
      "metadata": {
        "colab": {
          "base_uri": "https://localhost:8080/",
          "height": 250
        },
        "id": "WsSZl-qnLNBs",
        "outputId": "0bdb4f88-54ec-423f-9836-d6b86859cb6e"
      },
      "source": [
        "aml.leaderboard"
      ],
      "execution_count": 22,
      "outputs": [
        {
          "output_type": "display_data",
          "data": {
            "text/html": [
              "<table>\n",
              "<thead>\n",
              "<tr><th>model_id                                            </th><th style=\"text-align: right;\">  mean_per_class_error</th><th style=\"text-align: right;\">  logloss</th><th style=\"text-align: right;\">     rmse</th><th style=\"text-align: right;\">       mse</th><th style=\"text-align: right;\">  auc</th><th style=\"text-align: right;\">  aucpr</th></tr>\n",
              "</thead>\n",
              "<tbody>\n",
              "<tr><td>XGBoost_grid__1_AutoML_20210429_011045_model_2316   </td><td style=\"text-align: right;\">                     0</td><td style=\"text-align: right;\">0.0967753</td><td style=\"text-align: right;\">0.143509 </td><td style=\"text-align: right;\">0.0205948 </td><td style=\"text-align: right;\">  nan</td><td style=\"text-align: right;\">    nan</td></tr>\n",
              "<tr><td>XGBoost_grid__1_AutoML_20210429_011045_model_1920   </td><td style=\"text-align: right;\">                     0</td><td style=\"text-align: right;\">0.0511232</td><td style=\"text-align: right;\">0.0904844</td><td style=\"text-align: right;\">0.00818742</td><td style=\"text-align: right;\">  nan</td><td style=\"text-align: right;\">    nan</td></tr>\n",
              "<tr><td>XGBoost_grid__1_AutoML_20210429_011045_model_1023   </td><td style=\"text-align: right;\">                     0</td><td style=\"text-align: right;\">0.160862 </td><td style=\"text-align: right;\">0.183218 </td><td style=\"text-align: right;\">0.033569  </td><td style=\"text-align: right;\">  nan</td><td style=\"text-align: right;\">    nan</td></tr>\n",
              "<tr><td>XGBoost_grid__1_AutoML_20210429_011045_model_183    </td><td style=\"text-align: right;\">                     0</td><td style=\"text-align: right;\">0.162128 </td><td style=\"text-align: right;\">0.183355 </td><td style=\"text-align: right;\">0.033619  </td><td style=\"text-align: right;\">  nan</td><td style=\"text-align: right;\">    nan</td></tr>\n",
              "<tr><td>XGBoost_grid__1_AutoML_20210429_011045_model_1259   </td><td style=\"text-align: right;\">                     0</td><td style=\"text-align: right;\">0.159901 </td><td style=\"text-align: right;\">0.182124 </td><td style=\"text-align: right;\">0.0331692 </td><td style=\"text-align: right;\">  nan</td><td style=\"text-align: right;\">    nan</td></tr>\n",
              "<tr><td>XGBoost_grid__1_AutoML_20210429_011045_model_2119   </td><td style=\"text-align: right;\">                     0</td><td style=\"text-align: right;\">0.100653 </td><td style=\"text-align: right;\">0.137488 </td><td style=\"text-align: right;\">0.0189029 </td><td style=\"text-align: right;\">  nan</td><td style=\"text-align: right;\">    nan</td></tr>\n",
              "<tr><td>DeepLearning_grid__2_AutoML_20210429_011045_model_18</td><td style=\"text-align: right;\">                     0</td><td style=\"text-align: right;\">0.0103536</td><td style=\"text-align: right;\">0.0396688</td><td style=\"text-align: right;\">0.00157362</td><td style=\"text-align: right;\">  nan</td><td style=\"text-align: right;\">    nan</td></tr>\n",
              "<tr><td>XGBoost_grid__1_AutoML_20210429_011045_model_1322   </td><td style=\"text-align: right;\">                     0</td><td style=\"text-align: right;\">0.109403 </td><td style=\"text-align: right;\">0.143242 </td><td style=\"text-align: right;\">0.0205181 </td><td style=\"text-align: right;\">  nan</td><td style=\"text-align: right;\">    nan</td></tr>\n",
              "<tr><td>XGBoost_grid__1_AutoML_20210429_011045_model_781    </td><td style=\"text-align: right;\">                     0</td><td style=\"text-align: right;\">0.124839 </td><td style=\"text-align: right;\">0.162404 </td><td style=\"text-align: right;\">0.0263751 </td><td style=\"text-align: right;\">  nan</td><td style=\"text-align: right;\">    nan</td></tr>\n",
              "<tr><td>XGBoost_grid__1_AutoML_20210429_011045_model_1377   </td><td style=\"text-align: right;\">                     0</td><td style=\"text-align: right;\">0.254389 </td><td style=\"text-align: right;\">0.251242 </td><td style=\"text-align: right;\">0.0631225 </td><td style=\"text-align: right;\">  nan</td><td style=\"text-align: right;\">    nan</td></tr>\n",
              "</tbody>\n",
              "</table>"
            ]
          },
          "metadata": {
            "tags": []
          }
        },
        {
          "output_type": "execute_result",
          "data": {
            "text/plain": [
              ""
            ]
          },
          "metadata": {
            "tags": []
          },
          "execution_count": 22
        }
      ]
    },
    {
      "cell_type": "code",
      "metadata": {
        "id": "WbnZ2P3RLOHa"
      },
      "source": [
        "perf = aml.leader.model_performance(test)"
      ],
      "execution_count": 29,
      "outputs": []
    },
    {
      "cell_type": "code",
      "metadata": {
        "colab": {
          "base_uri": "https://localhost:8080/",
          "height": 587
        },
        "id": "DS33mhc5XmSK",
        "outputId": "41afbee5-9bdf-40f7-b3b9-bfad1215c63a"
      },
      "source": [
        "perf.confusion_matrix"
      ],
      "execution_count": 30,
      "outputs": [
        {
          "output_type": "stream",
          "text": [
            "\n",
            "ModelMetricsMultinomial: xgboost\n",
            "** Reported on test data. **\n",
            "\n",
            "MSE: 0.03886701253843428\n",
            "RMSE: 0.19714718496198286\n",
            "LogLoss: 0.13872276920216017\n",
            "Mean Per-Class Error: 0.030303030303030304\n",
            "AUC: NaN\n",
            "AUCPR: NaN\n",
            "Multinomial auc values: Table is not computed because it is disabled (model parameter 'auc_type' is set to AUTO or NONE) or due to domain size (maximum is 50 domains).\n",
            "Multinomial auc_pr values: Table is not computed because it is disabled (model parameter 'auc_type' is set to AUTO or NONE) or due to domain size (maximum is 50 domains).\n",
            "\n",
            "Confusion Matrix: Row labels: Actual class; Column labels: Predicted class\n"
          ],
          "name": "stdout"
        },
        {
          "output_type": "display_data",
          "data": {
            "text/html": [
              "<div>\n",
              "<style scoped>\n",
              "    .dataframe tbody tr th:only-of-type {\n",
              "        vertical-align: middle;\n",
              "    }\n",
              "\n",
              "    .dataframe tbody tr th {\n",
              "        vertical-align: top;\n",
              "    }\n",
              "\n",
              "    .dataframe thead th {\n",
              "        text-align: right;\n",
              "    }\n",
              "</style>\n",
              "<table border=\"1\" class=\"dataframe\">\n",
              "  <thead>\n",
              "    <tr style=\"text-align: right;\">\n",
              "      <th></th>\n",
              "      <th>1</th>\n",
              "      <th>2</th>\n",
              "      <th>3</th>\n",
              "      <th>Error</th>\n",
              "      <th>Rate</th>\n",
              "    </tr>\n",
              "  </thead>\n",
              "  <tbody>\n",
              "    <tr>\n",
              "      <th>0</th>\n",
              "      <td>5.0</td>\n",
              "      <td>0.0</td>\n",
              "      <td>0.0</td>\n",
              "      <td>0.000000</td>\n",
              "      <td>0 / 5</td>\n",
              "    </tr>\n",
              "    <tr>\n",
              "      <th>1</th>\n",
              "      <td>1.0</td>\n",
              "      <td>10.0</td>\n",
              "      <td>0.0</td>\n",
              "      <td>0.090909</td>\n",
              "      <td>1 / 11</td>\n",
              "    </tr>\n",
              "    <tr>\n",
              "      <th>2</th>\n",
              "      <td>0.0</td>\n",
              "      <td>0.0</td>\n",
              "      <td>7.0</td>\n",
              "      <td>0.000000</td>\n",
              "      <td>0 / 7</td>\n",
              "    </tr>\n",
              "    <tr>\n",
              "      <th>3</th>\n",
              "      <td>6.0</td>\n",
              "      <td>10.0</td>\n",
              "      <td>7.0</td>\n",
              "      <td>0.043478</td>\n",
              "      <td>1 / 23</td>\n",
              "    </tr>\n",
              "  </tbody>\n",
              "</table>\n",
              "</div>"
            ],
            "text/plain": [
              "     1     2    3     Error    Rate\n",
              "0  5.0   0.0  0.0  0.000000   0 / 5\n",
              "1  1.0  10.0  0.0  0.090909  1 / 11\n",
              "2  0.0   0.0  7.0  0.000000   0 / 7\n",
              "3  6.0  10.0  7.0  0.043478  1 / 23"
            ]
          },
          "metadata": {
            "tags": []
          }
        },
        {
          "output_type": "stream",
          "text": [
            "\n",
            "Top-3 Hit Ratios: \n"
          ],
          "name": "stdout"
        },
        {
          "output_type": "display_data",
          "data": {
            "text/html": [
              "<div>\n",
              "<style scoped>\n",
              "    .dataframe tbody tr th:only-of-type {\n",
              "        vertical-align: middle;\n",
              "    }\n",
              "\n",
              "    .dataframe tbody tr th {\n",
              "        vertical-align: top;\n",
              "    }\n",
              "\n",
              "    .dataframe thead th {\n",
              "        text-align: right;\n",
              "    }\n",
              "</style>\n",
              "<table border=\"1\" class=\"dataframe\">\n",
              "  <thead>\n",
              "    <tr style=\"text-align: right;\">\n",
              "      <th></th>\n",
              "      <th>k</th>\n",
              "      <th>hit_ratio</th>\n",
              "    </tr>\n",
              "  </thead>\n",
              "  <tbody>\n",
              "    <tr>\n",
              "      <th>0</th>\n",
              "      <td>1</td>\n",
              "      <td>0.956522</td>\n",
              "    </tr>\n",
              "    <tr>\n",
              "      <th>1</th>\n",
              "      <td>2</td>\n",
              "      <td>1.000000</td>\n",
              "    </tr>\n",
              "    <tr>\n",
              "      <th>2</th>\n",
              "      <td>3</td>\n",
              "      <td>1.000000</td>\n",
              "    </tr>\n",
              "  </tbody>\n",
              "</table>\n",
              "</div>"
            ],
            "text/plain": [
              "   k  hit_ratio\n",
              "0  1   0.956522\n",
              "1  2   1.000000\n",
              "2  3   1.000000"
            ]
          },
          "metadata": {
            "tags": []
          }
        },
        {
          "output_type": "execute_result",
          "data": {
            "text/plain": [
              "<bound method H2OMultinomialModelMetrics.confusion_matrix of >"
            ]
          },
          "metadata": {
            "tags": []
          },
          "execution_count": 30
        }
      ]
    },
    {
      "cell_type": "code",
      "metadata": {
        "colab": {
          "base_uri": "https://localhost:8080/",
          "height": 1000
        },
        "id": "4CMqsSBSXPLF",
        "outputId": "e3fdbba2-019f-4b2e-c9a4-3d4ea5f77ec3"
      },
      "source": [
        "aml.leader"
      ],
      "execution_count": 27,
      "outputs": [
        {
          "output_type": "stream",
          "text": [
            "Model Details\n",
            "=============\n",
            "H2OXGBoostEstimator :  XGBoost\n",
            "Model Key:  XGBoost_grid__1_AutoML_20210429_011045_model_2316\n",
            "\n",
            "\n",
            "Model Summary: \n"
          ],
          "name": "stdout"
        },
        {
          "output_type": "display_data",
          "data": {
            "text/html": [
              "<div>\n",
              "<style scoped>\n",
              "    .dataframe tbody tr th:only-of-type {\n",
              "        vertical-align: middle;\n",
              "    }\n",
              "\n",
              "    .dataframe tbody tr th {\n",
              "        vertical-align: top;\n",
              "    }\n",
              "\n",
              "    .dataframe thead th {\n",
              "        text-align: right;\n",
              "    }\n",
              "</style>\n",
              "<table border=\"1\" class=\"dataframe\">\n",
              "  <thead>\n",
              "    <tr style=\"text-align: right;\">\n",
              "      <th></th>\n",
              "      <th></th>\n",
              "      <th>number_of_trees</th>\n",
              "    </tr>\n",
              "  </thead>\n",
              "  <tbody>\n",
              "    <tr>\n",
              "      <th>0</th>\n",
              "      <td></td>\n",
              "      <td>40.0</td>\n",
              "    </tr>\n",
              "  </tbody>\n",
              "</table>\n",
              "</div>"
            ],
            "text/plain": [
              "     number_of_trees\n",
              "0               40.0"
            ]
          },
          "metadata": {
            "tags": []
          }
        },
        {
          "output_type": "stream",
          "text": [
            "\n",
            "\n",
            "ModelMetricsMultinomial: xgboost\n",
            "** Reported on train data. **\n",
            "\n",
            "MSE: 0.0021593255362819057\n",
            "RMSE: 0.04646854351367068\n",
            "LogLoss: 0.03402974437785953\n",
            "Mean Per-Class Error: 0.0\n",
            "AUC: NaN\n",
            "AUCPR: NaN\n",
            "Multinomial auc values: Table is not computed because it is disabled (model parameter 'auc_type' is set to AUTO or NONE) or due to domain size (maximum is 50 domains).\n",
            "Multinomial auc_pr values: Table is not computed because it is disabled (model parameter 'auc_type' is set to AUTO or NONE) or due to domain size (maximum is 50 domains).\n",
            "\n",
            "Confusion Matrix: Row labels: Actual class; Column labels: Predicted class\n"
          ],
          "name": "stdout"
        },
        {
          "output_type": "display_data",
          "data": {
            "text/html": [
              "<div>\n",
              "<style scoped>\n",
              "    .dataframe tbody tr th:only-of-type {\n",
              "        vertical-align: middle;\n",
              "    }\n",
              "\n",
              "    .dataframe tbody tr th {\n",
              "        vertical-align: top;\n",
              "    }\n",
              "\n",
              "    .dataframe thead th {\n",
              "        text-align: right;\n",
              "    }\n",
              "</style>\n",
              "<table border=\"1\" class=\"dataframe\">\n",
              "  <thead>\n",
              "    <tr style=\"text-align: right;\">\n",
              "      <th></th>\n",
              "      <th>1</th>\n",
              "      <th>2</th>\n",
              "      <th>3</th>\n",
              "      <th>Error</th>\n",
              "      <th>Rate</th>\n",
              "    </tr>\n",
              "  </thead>\n",
              "  <tbody>\n",
              "    <tr>\n",
              "      <th>0</th>\n",
              "      <td>46.0</td>\n",
              "      <td>0.0</td>\n",
              "      <td>0.0</td>\n",
              "      <td>0.0</td>\n",
              "      <td>0 / 46</td>\n",
              "    </tr>\n",
              "    <tr>\n",
              "      <th>1</th>\n",
              "      <td>0.0</td>\n",
              "      <td>53.0</td>\n",
              "      <td>0.0</td>\n",
              "      <td>0.0</td>\n",
              "      <td>0 / 53</td>\n",
              "    </tr>\n",
              "    <tr>\n",
              "      <th>2</th>\n",
              "      <td>0.0</td>\n",
              "      <td>0.0</td>\n",
              "      <td>33.0</td>\n",
              "      <td>0.0</td>\n",
              "      <td>0 / 33</td>\n",
              "    </tr>\n",
              "    <tr>\n",
              "      <th>3</th>\n",
              "      <td>46.0</td>\n",
              "      <td>53.0</td>\n",
              "      <td>33.0</td>\n",
              "      <td>0.0</td>\n",
              "      <td>0 / 132</td>\n",
              "    </tr>\n",
              "  </tbody>\n",
              "</table>\n",
              "</div>"
            ],
            "text/plain": [
              "      1     2     3  Error     Rate\n",
              "0  46.0   0.0   0.0    0.0   0 / 46\n",
              "1   0.0  53.0   0.0    0.0   0 / 53\n",
              "2   0.0   0.0  33.0    0.0   0 / 33\n",
              "3  46.0  53.0  33.0    0.0  0 / 132"
            ]
          },
          "metadata": {
            "tags": []
          }
        },
        {
          "output_type": "stream",
          "text": [
            "\n",
            "Top-3 Hit Ratios: \n"
          ],
          "name": "stdout"
        },
        {
          "output_type": "display_data",
          "data": {
            "text/html": [
              "<div>\n",
              "<style scoped>\n",
              "    .dataframe tbody tr th:only-of-type {\n",
              "        vertical-align: middle;\n",
              "    }\n",
              "\n",
              "    .dataframe tbody tr th {\n",
              "        vertical-align: top;\n",
              "    }\n",
              "\n",
              "    .dataframe thead th {\n",
              "        text-align: right;\n",
              "    }\n",
              "</style>\n",
              "<table border=\"1\" class=\"dataframe\">\n",
              "  <thead>\n",
              "    <tr style=\"text-align: right;\">\n",
              "      <th></th>\n",
              "      <th>k</th>\n",
              "      <th>hit_ratio</th>\n",
              "    </tr>\n",
              "  </thead>\n",
              "  <tbody>\n",
              "    <tr>\n",
              "      <th>0</th>\n",
              "      <td>1</td>\n",
              "      <td>1.0</td>\n",
              "    </tr>\n",
              "    <tr>\n",
              "      <th>1</th>\n",
              "      <td>2</td>\n",
              "      <td>1.0</td>\n",
              "    </tr>\n",
              "    <tr>\n",
              "      <th>2</th>\n",
              "      <td>3</td>\n",
              "      <td>1.0</td>\n",
              "    </tr>\n",
              "  </tbody>\n",
              "</table>\n",
              "</div>"
            ],
            "text/plain": [
              "   k  hit_ratio\n",
              "0  1        1.0\n",
              "1  2        1.0\n",
              "2  3        1.0"
            ]
          },
          "metadata": {
            "tags": []
          }
        },
        {
          "output_type": "stream",
          "text": [
            "\n",
            "ModelMetricsMultinomial: xgboost\n",
            "** Reported on cross-validation data. **\n",
            "\n",
            "MSE: 0.020594781503840066\n",
            "RMSE: 0.14350882029979922\n",
            "LogLoss: 0.09677532182144329\n",
            "Mean Per-Class Error: 0.0\n",
            "AUC: NaN\n",
            "AUCPR: NaN\n",
            "Multinomial auc values: Table is not computed because it is disabled (model parameter 'auc_type' is set to AUTO or NONE) or due to domain size (maximum is 50 domains).\n",
            "Multinomial auc_pr values: Table is not computed because it is disabled (model parameter 'auc_type' is set to AUTO or NONE) or due to domain size (maximum is 50 domains).\n",
            "\n",
            "Confusion Matrix: Row labels: Actual class; Column labels: Predicted class\n"
          ],
          "name": "stdout"
        },
        {
          "output_type": "display_data",
          "data": {
            "text/html": [
              "<div>\n",
              "<style scoped>\n",
              "    .dataframe tbody tr th:only-of-type {\n",
              "        vertical-align: middle;\n",
              "    }\n",
              "\n",
              "    .dataframe tbody tr th {\n",
              "        vertical-align: top;\n",
              "    }\n",
              "\n",
              "    .dataframe thead th {\n",
              "        text-align: right;\n",
              "    }\n",
              "</style>\n",
              "<table border=\"1\" class=\"dataframe\">\n",
              "  <thead>\n",
              "    <tr style=\"text-align: right;\">\n",
              "      <th></th>\n",
              "      <th>1</th>\n",
              "      <th>2</th>\n",
              "      <th>3</th>\n",
              "      <th>Error</th>\n",
              "      <th>Rate</th>\n",
              "    </tr>\n",
              "  </thead>\n",
              "  <tbody>\n",
              "    <tr>\n",
              "      <th>0</th>\n",
              "      <td>46.0</td>\n",
              "      <td>0.0</td>\n",
              "      <td>0.0</td>\n",
              "      <td>0.0</td>\n",
              "      <td>0 / 46</td>\n",
              "    </tr>\n",
              "    <tr>\n",
              "      <th>1</th>\n",
              "      <td>0.0</td>\n",
              "      <td>53.0</td>\n",
              "      <td>0.0</td>\n",
              "      <td>0.0</td>\n",
              "      <td>0 / 53</td>\n",
              "    </tr>\n",
              "    <tr>\n",
              "      <th>2</th>\n",
              "      <td>0.0</td>\n",
              "      <td>0.0</td>\n",
              "      <td>33.0</td>\n",
              "      <td>0.0</td>\n",
              "      <td>0 / 33</td>\n",
              "    </tr>\n",
              "    <tr>\n",
              "      <th>3</th>\n",
              "      <td>46.0</td>\n",
              "      <td>53.0</td>\n",
              "      <td>33.0</td>\n",
              "      <td>0.0</td>\n",
              "      <td>0 / 132</td>\n",
              "    </tr>\n",
              "  </tbody>\n",
              "</table>\n",
              "</div>"
            ],
            "text/plain": [
              "      1     2     3  Error     Rate\n",
              "0  46.0   0.0   0.0    0.0   0 / 46\n",
              "1   0.0  53.0   0.0    0.0   0 / 53\n",
              "2   0.0   0.0  33.0    0.0   0 / 33\n",
              "3  46.0  53.0  33.0    0.0  0 / 132"
            ]
          },
          "metadata": {
            "tags": []
          }
        },
        {
          "output_type": "stream",
          "text": [
            "\n",
            "Top-3 Hit Ratios: \n"
          ],
          "name": "stdout"
        },
        {
          "output_type": "display_data",
          "data": {
            "text/html": [
              "<div>\n",
              "<style scoped>\n",
              "    .dataframe tbody tr th:only-of-type {\n",
              "        vertical-align: middle;\n",
              "    }\n",
              "\n",
              "    .dataframe tbody tr th {\n",
              "        vertical-align: top;\n",
              "    }\n",
              "\n",
              "    .dataframe thead th {\n",
              "        text-align: right;\n",
              "    }\n",
              "</style>\n",
              "<table border=\"1\" class=\"dataframe\">\n",
              "  <thead>\n",
              "    <tr style=\"text-align: right;\">\n",
              "      <th></th>\n",
              "      <th>k</th>\n",
              "      <th>hit_ratio</th>\n",
              "    </tr>\n",
              "  </thead>\n",
              "  <tbody>\n",
              "    <tr>\n",
              "      <th>0</th>\n",
              "      <td>1</td>\n",
              "      <td>1.0</td>\n",
              "    </tr>\n",
              "    <tr>\n",
              "      <th>1</th>\n",
              "      <td>2</td>\n",
              "      <td>1.0</td>\n",
              "    </tr>\n",
              "    <tr>\n",
              "      <th>2</th>\n",
              "      <td>3</td>\n",
              "      <td>1.0</td>\n",
              "    </tr>\n",
              "  </tbody>\n",
              "</table>\n",
              "</div>"
            ],
            "text/plain": [
              "   k  hit_ratio\n",
              "0  1        1.0\n",
              "1  2        1.0\n",
              "2  3        1.0"
            ]
          },
          "metadata": {
            "tags": []
          }
        },
        {
          "output_type": "stream",
          "text": [
            "\n",
            "Cross-Validation Metrics Summary: \n"
          ],
          "name": "stdout"
        },
        {
          "output_type": "display_data",
          "data": {
            "text/html": [
              "<div>\n",
              "<style scoped>\n",
              "    .dataframe tbody tr th:only-of-type {\n",
              "        vertical-align: middle;\n",
              "    }\n",
              "\n",
              "    .dataframe tbody tr th {\n",
              "        vertical-align: top;\n",
              "    }\n",
              "\n",
              "    .dataframe thead th {\n",
              "        text-align: right;\n",
              "    }\n",
              "</style>\n",
              "<table border=\"1\" class=\"dataframe\">\n",
              "  <thead>\n",
              "    <tr style=\"text-align: right;\">\n",
              "      <th></th>\n",
              "      <th></th>\n",
              "      <th>mean</th>\n",
              "      <th>sd</th>\n",
              "      <th>cv_1_valid</th>\n",
              "      <th>cv_2_valid</th>\n",
              "      <th>cv_3_valid</th>\n",
              "      <th>cv_4_valid</th>\n",
              "      <th>cv_5_valid</th>\n",
              "    </tr>\n",
              "  </thead>\n",
              "  <tbody>\n",
              "    <tr>\n",
              "      <th>0</th>\n",
              "      <td>accuracy</td>\n",
              "      <td>1.0</td>\n",
              "      <td>0.0</td>\n",
              "      <td>1.0</td>\n",
              "      <td>1.0</td>\n",
              "      <td>1.0</td>\n",
              "      <td>1.0</td>\n",
              "      <td>1.0</td>\n",
              "    </tr>\n",
              "    <tr>\n",
              "      <th>1</th>\n",
              "      <td>auc</td>\n",
              "      <td>NaN</td>\n",
              "      <td>0.0</td>\n",
              "      <td>NaN</td>\n",
              "      <td>NaN</td>\n",
              "      <td>NaN</td>\n",
              "      <td>NaN</td>\n",
              "      <td>NaN</td>\n",
              "    </tr>\n",
              "    <tr>\n",
              "      <th>2</th>\n",
              "      <td>aucpr</td>\n",
              "      <td>NaN</td>\n",
              "      <td>0.0</td>\n",
              "      <td>NaN</td>\n",
              "      <td>NaN</td>\n",
              "      <td>NaN</td>\n",
              "      <td>NaN</td>\n",
              "      <td>NaN</td>\n",
              "    </tr>\n",
              "    <tr>\n",
              "      <th>3</th>\n",
              "      <td>err</td>\n",
              "      <td>0.0</td>\n",
              "      <td>0.0</td>\n",
              "      <td>0.0</td>\n",
              "      <td>0.0</td>\n",
              "      <td>0.0</td>\n",
              "      <td>0.0</td>\n",
              "      <td>0.0</td>\n",
              "    </tr>\n",
              "    <tr>\n",
              "      <th>4</th>\n",
              "      <td>err_count</td>\n",
              "      <td>0.0</td>\n",
              "      <td>0.0</td>\n",
              "      <td>0.0</td>\n",
              "      <td>0.0</td>\n",
              "      <td>0.0</td>\n",
              "      <td>0.0</td>\n",
              "      <td>0.0</td>\n",
              "    </tr>\n",
              "    <tr>\n",
              "      <th>5</th>\n",
              "      <td>logloss</td>\n",
              "      <td>0.09699807</td>\n",
              "      <td>0.023364408</td>\n",
              "      <td>0.09787706</td>\n",
              "      <td>0.06671622</td>\n",
              "      <td>0.10439897</td>\n",
              "      <td>0.085987665</td>\n",
              "      <td>0.13001044</td>\n",
              "    </tr>\n",
              "    <tr>\n",
              "      <th>6</th>\n",
              "      <td>max_per_class_error</td>\n",
              "      <td>0.0</td>\n",
              "      <td>0.0</td>\n",
              "      <td>0.0</td>\n",
              "      <td>0.0</td>\n",
              "      <td>0.0</td>\n",
              "      <td>0.0</td>\n",
              "      <td>0.0</td>\n",
              "    </tr>\n",
              "    <tr>\n",
              "      <th>7</th>\n",
              "      <td>mean_per_class_accuracy</td>\n",
              "      <td>1.0</td>\n",
              "      <td>0.0</td>\n",
              "      <td>1.0</td>\n",
              "      <td>1.0</td>\n",
              "      <td>1.0</td>\n",
              "      <td>1.0</td>\n",
              "      <td>1.0</td>\n",
              "    </tr>\n",
              "    <tr>\n",
              "      <th>8</th>\n",
              "      <td>mean_per_class_error</td>\n",
              "      <td>0.0</td>\n",
              "      <td>0.0</td>\n",
              "      <td>0.0</td>\n",
              "      <td>0.0</td>\n",
              "      <td>0.0</td>\n",
              "      <td>0.0</td>\n",
              "      <td>0.0</td>\n",
              "    </tr>\n",
              "    <tr>\n",
              "      <th>9</th>\n",
              "      <td>mse</td>\n",
              "      <td>0.020689553</td>\n",
              "      <td>0.009168801</td>\n",
              "      <td>0.018393788</td>\n",
              "      <td>0.010475452</td>\n",
              "      <td>0.022811528</td>\n",
              "      <td>0.016712556</td>\n",
              "      <td>0.03505444</td>\n",
              "    </tr>\n",
              "    <tr>\n",
              "      <th>10</th>\n",
              "      <td>pr_auc</td>\n",
              "      <td>NaN</td>\n",
              "      <td>0.0</td>\n",
              "      <td>NaN</td>\n",
              "      <td>NaN</td>\n",
              "      <td>NaN</td>\n",
              "      <td>NaN</td>\n",
              "      <td>NaN</td>\n",
              "    </tr>\n",
              "    <tr>\n",
              "      <th>11</th>\n",
              "      <td>r2</td>\n",
              "      <td>0.96494323</td>\n",
              "      <td>0.014891064</td>\n",
              "      <td>0.9702021</td>\n",
              "      <td>0.98215747</td>\n",
              "      <td>0.959526</td>\n",
              "      <td>0.9703473</td>\n",
              "      <td>0.9424835</td>\n",
              "    </tr>\n",
              "    <tr>\n",
              "      <th>12</th>\n",
              "      <td>rmse</td>\n",
              "      <td>0.14110272</td>\n",
              "      <td>0.031216515</td>\n",
              "      <td>0.13562371</td>\n",
              "      <td>0.10234966</td>\n",
              "      <td>0.15103486</td>\n",
              "      <td>0.12927705</td>\n",
              "      <td>0.1872283</td>\n",
              "    </tr>\n",
              "  </tbody>\n",
              "</table>\n",
              "</div>"
            ],
            "text/plain": [
              "                                    mean  ...   cv_4_valid  cv_5_valid\n",
              "0                  accuracy          1.0  ...          1.0         1.0\n",
              "1                       auc          NaN  ...          NaN         NaN\n",
              "2                     aucpr          NaN  ...          NaN         NaN\n",
              "3                       err          0.0  ...          0.0         0.0\n",
              "4                 err_count          0.0  ...          0.0         0.0\n",
              "5                   logloss   0.09699807  ...  0.085987665  0.13001044\n",
              "6       max_per_class_error          0.0  ...          0.0         0.0\n",
              "7   mean_per_class_accuracy          1.0  ...          1.0         1.0\n",
              "8      mean_per_class_error          0.0  ...          0.0         0.0\n",
              "9                       mse  0.020689553  ...  0.016712556  0.03505444\n",
              "10                   pr_auc          NaN  ...          NaN         NaN\n",
              "11                       r2   0.96494323  ...    0.9703473   0.9424835\n",
              "12                     rmse   0.14110272  ...   0.12927705   0.1872283\n",
              "\n",
              "[13 rows x 8 columns]"
            ]
          },
          "metadata": {
            "tags": []
          }
        },
        {
          "output_type": "stream",
          "text": [
            "\n",
            "Scoring History: \n"
          ],
          "name": "stdout"
        },
        {
          "output_type": "display_data",
          "data": {
            "text/html": [
              "<div>\n",
              "<style scoped>\n",
              "    .dataframe tbody tr th:only-of-type {\n",
              "        vertical-align: middle;\n",
              "    }\n",
              "\n",
              "    .dataframe tbody tr th {\n",
              "        vertical-align: top;\n",
              "    }\n",
              "\n",
              "    .dataframe thead th {\n",
              "        text-align: right;\n",
              "    }\n",
              "</style>\n",
              "<table border=\"1\" class=\"dataframe\">\n",
              "  <thead>\n",
              "    <tr style=\"text-align: right;\">\n",
              "      <th></th>\n",
              "      <th></th>\n",
              "      <th>timestamp</th>\n",
              "      <th>duration</th>\n",
              "      <th>number_of_trees</th>\n",
              "      <th>training_rmse</th>\n",
              "      <th>training_logloss</th>\n",
              "      <th>training_classification_error</th>\n",
              "      <th>training_auc</th>\n",
              "      <th>training_pr_auc</th>\n",
              "    </tr>\n",
              "  </thead>\n",
              "  <tbody>\n",
              "    <tr>\n",
              "      <th>0</th>\n",
              "      <td></td>\n",
              "      <td>2021-04-29 01:26:16</td>\n",
              "      <td>14 min 56.339 sec</td>\n",
              "      <td>0.0</td>\n",
              "      <td>0.666667</td>\n",
              "      <td>1.098612</td>\n",
              "      <td>0.598485</td>\n",
              "      <td>NaN</td>\n",
              "      <td>NaN</td>\n",
              "    </tr>\n",
              "    <tr>\n",
              "      <th>1</th>\n",
              "      <td></td>\n",
              "      <td>2021-04-29 01:26:16</td>\n",
              "      <td>14 min 56.370 sec</td>\n",
              "      <td>5.0</td>\n",
              "      <td>0.228250</td>\n",
              "      <td>0.249144</td>\n",
              "      <td>0.000000</td>\n",
              "      <td>NaN</td>\n",
              "      <td>NaN</td>\n",
              "    </tr>\n",
              "    <tr>\n",
              "      <th>2</th>\n",
              "      <td></td>\n",
              "      <td>2021-04-29 01:26:16</td>\n",
              "      <td>14 min 56.377 sec</td>\n",
              "      <td>10.0</td>\n",
              "      <td>0.105987</td>\n",
              "      <td>0.095316</td>\n",
              "      <td>0.000000</td>\n",
              "      <td>NaN</td>\n",
              "      <td>NaN</td>\n",
              "    </tr>\n",
              "    <tr>\n",
              "      <th>3</th>\n",
              "      <td></td>\n",
              "      <td>2021-04-29 01:26:16</td>\n",
              "      <td>14 min 56.381 sec</td>\n",
              "      <td>15.0</td>\n",
              "      <td>0.066713</td>\n",
              "      <td>0.052860</td>\n",
              "      <td>0.000000</td>\n",
              "      <td>NaN</td>\n",
              "      <td>NaN</td>\n",
              "    </tr>\n",
              "    <tr>\n",
              "      <th>4</th>\n",
              "      <td></td>\n",
              "      <td>2021-04-29 01:26:16</td>\n",
              "      <td>14 min 56.385 sec</td>\n",
              "      <td>20.0</td>\n",
              "      <td>0.052252</td>\n",
              "      <td>0.039799</td>\n",
              "      <td>0.000000</td>\n",
              "      <td>NaN</td>\n",
              "      <td>NaN</td>\n",
              "    </tr>\n",
              "    <tr>\n",
              "      <th>5</th>\n",
              "      <td></td>\n",
              "      <td>2021-04-29 01:26:16</td>\n",
              "      <td>14 min 56.395 sec</td>\n",
              "      <td>25.0</td>\n",
              "      <td>0.049244</td>\n",
              "      <td>0.036568</td>\n",
              "      <td>0.000000</td>\n",
              "      <td>NaN</td>\n",
              "      <td>NaN</td>\n",
              "    </tr>\n",
              "    <tr>\n",
              "      <th>6</th>\n",
              "      <td></td>\n",
              "      <td>2021-04-29 01:26:16</td>\n",
              "      <td>14 min 56.404 sec</td>\n",
              "      <td>30.0</td>\n",
              "      <td>0.047378</td>\n",
              "      <td>0.035175</td>\n",
              "      <td>0.000000</td>\n",
              "      <td>NaN</td>\n",
              "      <td>NaN</td>\n",
              "    </tr>\n",
              "    <tr>\n",
              "      <th>7</th>\n",
              "      <td></td>\n",
              "      <td>2021-04-29 01:26:16</td>\n",
              "      <td>14 min 56.409 sec</td>\n",
              "      <td>35.0</td>\n",
              "      <td>0.046722</td>\n",
              "      <td>0.034475</td>\n",
              "      <td>0.000000</td>\n",
              "      <td>NaN</td>\n",
              "      <td>NaN</td>\n",
              "    </tr>\n",
              "    <tr>\n",
              "      <th>8</th>\n",
              "      <td></td>\n",
              "      <td>2021-04-29 01:26:16</td>\n",
              "      <td>14 min 56.413 sec</td>\n",
              "      <td>40.0</td>\n",
              "      <td>0.046469</td>\n",
              "      <td>0.034030</td>\n",
              "      <td>0.000000</td>\n",
              "      <td>NaN</td>\n",
              "      <td>NaN</td>\n",
              "    </tr>\n",
              "  </tbody>\n",
              "</table>\n",
              "</div>"
            ],
            "text/plain": [
              "               timestamp  ... training_auc  training_pr_auc\n",
              "0    2021-04-29 01:26:16  ...          NaN              NaN\n",
              "1    2021-04-29 01:26:16  ...          NaN              NaN\n",
              "2    2021-04-29 01:26:16  ...          NaN              NaN\n",
              "3    2021-04-29 01:26:16  ...          NaN              NaN\n",
              "4    2021-04-29 01:26:16  ...          NaN              NaN\n",
              "5    2021-04-29 01:26:16  ...          NaN              NaN\n",
              "6    2021-04-29 01:26:16  ...          NaN              NaN\n",
              "7    2021-04-29 01:26:16  ...          NaN              NaN\n",
              "8    2021-04-29 01:26:16  ...          NaN              NaN\n",
              "\n",
              "[9 rows x 9 columns]"
            ]
          },
          "metadata": {
            "tags": []
          }
        },
        {
          "output_type": "stream",
          "text": [
            "\n",
            "Variable Importances: \n"
          ],
          "name": "stdout"
        },
        {
          "output_type": "display_data",
          "data": {
            "text/html": [
              "<div>\n",
              "<style scoped>\n",
              "    .dataframe tbody tr th:only-of-type {\n",
              "        vertical-align: middle;\n",
              "    }\n",
              "\n",
              "    .dataframe tbody tr th {\n",
              "        vertical-align: top;\n",
              "    }\n",
              "\n",
              "    .dataframe thead th {\n",
              "        text-align: right;\n",
              "    }\n",
              "</style>\n",
              "<table border=\"1\" class=\"dataframe\">\n",
              "  <thead>\n",
              "    <tr style=\"text-align: right;\">\n",
              "      <th></th>\n",
              "      <th>variable</th>\n",
              "      <th>relative_importance</th>\n",
              "      <th>scaled_importance</th>\n",
              "      <th>percentage</th>\n",
              "    </tr>\n",
              "  </thead>\n",
              "  <tbody>\n",
              "    <tr>\n",
              "      <th>0</th>\n",
              "      <td>C8</td>\n",
              "      <td>173.953064</td>\n",
              "      <td>1.000000</td>\n",
              "      <td>0.357349</td>\n",
              "    </tr>\n",
              "    <tr>\n",
              "      <th>1</th>\n",
              "      <td>C14</td>\n",
              "      <td>93.999428</td>\n",
              "      <td>0.540372</td>\n",
              "      <td>0.193102</td>\n",
              "    </tr>\n",
              "    <tr>\n",
              "      <th>2</th>\n",
              "      <td>C2</td>\n",
              "      <td>91.587936</td>\n",
              "      <td>0.526509</td>\n",
              "      <td>0.188148</td>\n",
              "    </tr>\n",
              "    <tr>\n",
              "      <th>3</th>\n",
              "      <td>C11</td>\n",
              "      <td>65.229607</td>\n",
              "      <td>0.374984</td>\n",
              "      <td>0.134000</td>\n",
              "    </tr>\n",
              "    <tr>\n",
              "      <th>4</th>\n",
              "      <td>C12</td>\n",
              "      <td>17.744095</td>\n",
              "      <td>0.102005</td>\n",
              "      <td>0.036451</td>\n",
              "    </tr>\n",
              "    <tr>\n",
              "      <th>5</th>\n",
              "      <td>C7</td>\n",
              "      <td>12.877969</td>\n",
              "      <td>0.074031</td>\n",
              "      <td>0.026455</td>\n",
              "    </tr>\n",
              "    <tr>\n",
              "      <th>6</th>\n",
              "      <td>C4</td>\n",
              "      <td>10.794140</td>\n",
              "      <td>0.062052</td>\n",
              "      <td>0.022174</td>\n",
              "    </tr>\n",
              "    <tr>\n",
              "      <th>7</th>\n",
              "      <td>C6</td>\n",
              "      <td>7.786490</td>\n",
              "      <td>0.044762</td>\n",
              "      <td>0.015996</td>\n",
              "    </tr>\n",
              "    <tr>\n",
              "      <th>8</th>\n",
              "      <td>C13</td>\n",
              "      <td>6.823748</td>\n",
              "      <td>0.039228</td>\n",
              "      <td>0.014018</td>\n",
              "    </tr>\n",
              "    <tr>\n",
              "      <th>9</th>\n",
              "      <td>C5</td>\n",
              "      <td>3.232967</td>\n",
              "      <td>0.018585</td>\n",
              "      <td>0.006641</td>\n",
              "    </tr>\n",
              "    <tr>\n",
              "      <th>10</th>\n",
              "      <td>C3</td>\n",
              "      <td>2.757770</td>\n",
              "      <td>0.015854</td>\n",
              "      <td>0.005665</td>\n",
              "    </tr>\n",
              "  </tbody>\n",
              "</table>\n",
              "</div>"
            ],
            "text/plain": [
              "   variable  relative_importance  scaled_importance  percentage\n",
              "0        C8           173.953064           1.000000    0.357349\n",
              "1       C14            93.999428           0.540372    0.193102\n",
              "2        C2            91.587936           0.526509    0.188148\n",
              "3       C11            65.229607           0.374984    0.134000\n",
              "4       C12            17.744095           0.102005    0.036451\n",
              "5        C7            12.877969           0.074031    0.026455\n",
              "6        C4            10.794140           0.062052    0.022174\n",
              "7        C6             7.786490           0.044762    0.015996\n",
              "8       C13             6.823748           0.039228    0.014018\n",
              "9        C5             3.232967           0.018585    0.006641\n",
              "10       C3             2.757770           0.015854    0.005665"
            ]
          },
          "metadata": {
            "tags": []
          }
        },
        {
          "output_type": "execute_result",
          "data": {
            "text/plain": [
              ""
            ]
          },
          "metadata": {
            "tags": []
          },
          "execution_count": 27
        }
      ]
    },
    {
      "cell_type": "code",
      "metadata": {
        "colab": {
          "base_uri": "https://localhost:8080/",
          "height": 267
        },
        "id": "SR6CEvLcMfoj",
        "outputId": "741420c0-98b9-47f6-f9aa-b194c53aef39"
      },
      "source": [
        "preds = aml.leader.predict(valid)\n",
        "preds"
      ],
      "execution_count": 24,
      "outputs": [
        {
          "output_type": "stream",
          "text": [
            "xgboost prediction progress: |████████████████████████████████████████████| 100%\n"
          ],
          "name": "stdout"
        },
        {
          "output_type": "display_data",
          "data": {
            "text/html": [
              "<table>\n",
              "<thead>\n",
              "<tr><th style=\"text-align: right;\">  predict</th><th style=\"text-align: right;\">       p1</th><th style=\"text-align: right;\">        p2</th><th style=\"text-align: right;\">        p3</th></tr>\n",
              "</thead>\n",
              "<tbody>\n",
              "<tr><td style=\"text-align: right;\">        1</td><td style=\"text-align: right;\">0.983634 </td><td style=\"text-align: right;\">0.00654103</td><td style=\"text-align: right;\">0.00982449</td></tr>\n",
              "<tr><td style=\"text-align: right;\">        1</td><td style=\"text-align: right;\">0.811513 </td><td style=\"text-align: right;\">0.095462  </td><td style=\"text-align: right;\">0.093025  </td></tr>\n",
              "<tr><td style=\"text-align: right;\">        1</td><td style=\"text-align: right;\">0.983765 </td><td style=\"text-align: right;\">0.00708824</td><td style=\"text-align: right;\">0.00914698</td></tr>\n",
              "<tr><td style=\"text-align: right;\">        1</td><td style=\"text-align: right;\">0.984373 </td><td style=\"text-align: right;\">0.00717946</td><td style=\"text-align: right;\">0.00844718</td></tr>\n",
              "<tr><td style=\"text-align: right;\">        1</td><td style=\"text-align: right;\">0.982872 </td><td style=\"text-align: right;\">0.00928098</td><td style=\"text-align: right;\">0.00784751</td></tr>\n",
              "<tr><td style=\"text-align: right;\">        1</td><td style=\"text-align: right;\">0.964298 </td><td style=\"text-align: right;\">0.0220175 </td><td style=\"text-align: right;\">0.0136839 </td></tr>\n",
              "<tr><td style=\"text-align: right;\">        1</td><td style=\"text-align: right;\">0.987678 </td><td style=\"text-align: right;\">0.00537963</td><td style=\"text-align: right;\">0.00694211</td></tr>\n",
              "<tr><td style=\"text-align: right;\">        1</td><td style=\"text-align: right;\">0.987011 </td><td style=\"text-align: right;\">0.00596768</td><td style=\"text-align: right;\">0.00702143</td></tr>\n",
              "<tr><td style=\"text-align: right;\">        2</td><td style=\"text-align: right;\">0.0117204</td><td style=\"text-align: right;\">0.934581  </td><td style=\"text-align: right;\">0.0536987 </td></tr>\n",
              "<tr><td style=\"text-align: right;\">        2</td><td style=\"text-align: right;\">0.17051  </td><td style=\"text-align: right;\">0.779519  </td><td style=\"text-align: right;\">0.0499711 </td></tr>\n",
              "</tbody>\n",
              "</table>"
            ]
          },
          "metadata": {
            "tags": []
          }
        },
        {
          "output_type": "execute_result",
          "data": {
            "text/plain": [
              ""
            ]
          },
          "metadata": {
            "tags": []
          },
          "execution_count": 24
        }
      ]
    },
    {
      "cell_type": "code",
      "metadata": {
        "colab": {
          "base_uri": "https://localhost:8080/",
          "height": 35
        },
        "id": "XzprLNpDPAUO",
        "outputId": "50e55e3e-6de4-4794-8373-67e6e83f2304"
      },
      "source": [
        "aml.leader.download_mojo(path='./', get_genmodel_jar=True)"
      ],
      "execution_count": 31,
      "outputs": [
        {
          "output_type": "execute_result",
          "data": {
            "application/vnd.google.colaboratory.intrinsic+json": {
              "type": "string"
            },
            "text/plain": [
              "'/content/Building-Machine-Learning-Models-in-Spark-2/datasets/XGBoost_grid__1_AutoML_20210429_011045_model_2316.zip'"
            ]
          },
          "metadata": {
            "tags": []
          },
          "execution_count": 31
        }
      ]
    }
  ]
}